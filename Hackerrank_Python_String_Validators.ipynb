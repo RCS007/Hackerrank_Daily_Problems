{
 "cells": [
  {
   "cell_type": "code",
   "execution_count": null,
   "metadata": {},
   "outputs": [],
   "source": [
    "if __name__ == '__main__':\n",
    "    s = input()\n",
    "    print(any(i.isalnum()for i in s))\n",
    "    print(any(i.isalpha()for i in s))\n",
    "    print(any(i.isdigit()for i in s))\n",
    "    print(any(i.islower()for i in s))\n",
    "    print(any(i.isupper()for i in s))"
   ]
  }
 ],
 "metadata": {
  "language_info": {
   "name": "python"
  }
 },
 "nbformat": 4,
 "nbformat_minor": 2
}
